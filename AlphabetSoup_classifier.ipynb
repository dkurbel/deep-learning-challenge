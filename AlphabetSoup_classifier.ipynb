{
 "cells": [
  {
   "cell_type": "markdown",
   "metadata": {},
   "source": [
    "## Preprocessing"
   ]
  },
  {
   "cell_type": "code",
   "execution_count": 1,
   "metadata": {},
   "outputs": [
    {
     "name": "stderr",
     "output_type": "stream",
     "text": [
      "2023-04-16 10:28:21.925823: I tensorflow/core/platform/cpu_feature_guard.cc:193] This TensorFlow binary is optimized with oneAPI Deep Neural Network Library (oneDNN) to use the following CPU instructions in performance-critical operations:  SSE4.1 SSE4.2\n",
      "To enable them in other operations, rebuild TensorFlow with the appropriate compiler flags.\n"
     ]
    }
   ],
   "source": [
    "# Import our dependencies\n",
    "from sklearn.model_selection import train_test_split\n",
    "from sklearn.preprocessing import StandardScaler, OneHotEncoder\n",
    "\n",
    "import pandas as pd\n",
    "import numpy as np\n",
    "\n",
    "import tensorflow as tf\n",
    "from tensorflow.keras.models import Sequential\n",
    "from tensorflow.keras.layers import Dense\n",
    "\n",
    "#  Import and read the charity_data.csv.\n",
    "application_df = pd.read_csv(\"https://static.bc-edx.com/data/dl-1-2/m21/lms/starter/charity_data.csv\")"
   ]
  },
  {
   "cell_type": "code",
   "execution_count": 2,
   "metadata": {},
   "outputs": [
    {
     "data": {
      "text/html": [
       "<div>\n",
       "<style scoped>\n",
       "    .dataframe tbody tr th:only-of-type {\n",
       "        vertical-align: middle;\n",
       "    }\n",
       "\n",
       "    .dataframe tbody tr th {\n",
       "        vertical-align: top;\n",
       "    }\n",
       "\n",
       "    .dataframe thead th {\n",
       "        text-align: right;\n",
       "    }\n",
       "</style>\n",
       "<table border=\"1\" class=\"dataframe\">\n",
       "  <thead>\n",
       "    <tr style=\"text-align: right;\">\n",
       "      <th></th>\n",
       "      <th>EIN</th>\n",
       "      <th>NAME</th>\n",
       "      <th>APPLICATION_TYPE</th>\n",
       "      <th>AFFILIATION</th>\n",
       "      <th>CLASSIFICATION</th>\n",
       "      <th>USE_CASE</th>\n",
       "      <th>ORGANIZATION</th>\n",
       "      <th>STATUS</th>\n",
       "      <th>INCOME_AMT</th>\n",
       "      <th>SPECIAL_CONSIDERATIONS</th>\n",
       "      <th>ASK_AMT</th>\n",
       "      <th>IS_SUCCESSFUL</th>\n",
       "    </tr>\n",
       "  </thead>\n",
       "  <tbody>\n",
       "    <tr>\n",
       "      <th>0</th>\n",
       "      <td>10520599</td>\n",
       "      <td>BLUE KNIGHTS MOTORCYCLE CLUB</td>\n",
       "      <td>T10</td>\n",
       "      <td>Independent</td>\n",
       "      <td>C1000</td>\n",
       "      <td>ProductDev</td>\n",
       "      <td>Association</td>\n",
       "      <td>1</td>\n",
       "      <td>0</td>\n",
       "      <td>N</td>\n",
       "      <td>5000</td>\n",
       "      <td>1</td>\n",
       "    </tr>\n",
       "    <tr>\n",
       "      <th>1</th>\n",
       "      <td>10531628</td>\n",
       "      <td>AMERICAN CHESAPEAKE CLUB CHARITABLE TR</td>\n",
       "      <td>T3</td>\n",
       "      <td>Independent</td>\n",
       "      <td>C2000</td>\n",
       "      <td>Preservation</td>\n",
       "      <td>Co-operative</td>\n",
       "      <td>1</td>\n",
       "      <td>1-9999</td>\n",
       "      <td>N</td>\n",
       "      <td>108590</td>\n",
       "      <td>1</td>\n",
       "    </tr>\n",
       "    <tr>\n",
       "      <th>2</th>\n",
       "      <td>10547893</td>\n",
       "      <td>ST CLOUD PROFESSIONAL FIREFIGHTERS</td>\n",
       "      <td>T5</td>\n",
       "      <td>CompanySponsored</td>\n",
       "      <td>C3000</td>\n",
       "      <td>ProductDev</td>\n",
       "      <td>Association</td>\n",
       "      <td>1</td>\n",
       "      <td>0</td>\n",
       "      <td>N</td>\n",
       "      <td>5000</td>\n",
       "      <td>0</td>\n",
       "    </tr>\n",
       "    <tr>\n",
       "      <th>3</th>\n",
       "      <td>10553066</td>\n",
       "      <td>SOUTHSIDE ATHLETIC ASSOCIATION</td>\n",
       "      <td>T3</td>\n",
       "      <td>CompanySponsored</td>\n",
       "      <td>C2000</td>\n",
       "      <td>Preservation</td>\n",
       "      <td>Trust</td>\n",
       "      <td>1</td>\n",
       "      <td>10000-24999</td>\n",
       "      <td>N</td>\n",
       "      <td>6692</td>\n",
       "      <td>1</td>\n",
       "    </tr>\n",
       "    <tr>\n",
       "      <th>4</th>\n",
       "      <td>10556103</td>\n",
       "      <td>GENETIC RESEARCH INSTITUTE OF THE DESERT</td>\n",
       "      <td>T3</td>\n",
       "      <td>Independent</td>\n",
       "      <td>C1000</td>\n",
       "      <td>Heathcare</td>\n",
       "      <td>Trust</td>\n",
       "      <td>1</td>\n",
       "      <td>100000-499999</td>\n",
       "      <td>N</td>\n",
       "      <td>142590</td>\n",
       "      <td>1</td>\n",
       "    </tr>\n",
       "  </tbody>\n",
       "</table>\n",
       "</div>"
      ],
      "text/plain": [
       "        EIN                                      NAME APPLICATION_TYPE  \\\n",
       "0  10520599              BLUE KNIGHTS MOTORCYCLE CLUB              T10   \n",
       "1  10531628    AMERICAN CHESAPEAKE CLUB CHARITABLE TR               T3   \n",
       "2  10547893        ST CLOUD PROFESSIONAL FIREFIGHTERS               T5   \n",
       "3  10553066            SOUTHSIDE ATHLETIC ASSOCIATION               T3   \n",
       "4  10556103  GENETIC RESEARCH INSTITUTE OF THE DESERT               T3   \n",
       "\n",
       "        AFFILIATION CLASSIFICATION      USE_CASE  ORGANIZATION  STATUS  \\\n",
       "0       Independent          C1000    ProductDev   Association       1   \n",
       "1       Independent          C2000  Preservation  Co-operative       1   \n",
       "2  CompanySponsored          C3000    ProductDev   Association       1   \n",
       "3  CompanySponsored          C2000  Preservation         Trust       1   \n",
       "4       Independent          C1000     Heathcare         Trust       1   \n",
       "\n",
       "      INCOME_AMT SPECIAL_CONSIDERATIONS  ASK_AMT  IS_SUCCESSFUL  \n",
       "0              0                      N     5000              1  \n",
       "1         1-9999                      N   108590              1  \n",
       "2              0                      N     5000              0  \n",
       "3    10000-24999                      N     6692              1  \n",
       "4  100000-499999                      N   142590              1  "
      ]
     },
     "execution_count": 2,
     "metadata": {},
     "output_type": "execute_result"
    }
   ],
   "source": [
    "# Inspect the dataframe\n",
    "application_df.head()"
   ]
  },
  {
   "cell_type": "code",
   "execution_count": 3,
   "metadata": {},
   "outputs": [],
   "source": [
    "# Drop the non-beneficial ID columns, 'EIN' and 'NAME'.\n",
    "application_df.drop(columns=['EIN', 'NAME'], inplace=True)"
   ]
  },
  {
   "cell_type": "code",
   "execution_count": 4,
   "metadata": {},
   "outputs": [
    {
     "data": {
      "text/plain": [
       "APPLICATION_TYPE            17\n",
       "AFFILIATION                  6\n",
       "CLASSIFICATION              71\n",
       "USE_CASE                     5\n",
       "ORGANIZATION                 4\n",
       "STATUS                       2\n",
       "INCOME_AMT                   9\n",
       "SPECIAL_CONSIDERATIONS       2\n",
       "ASK_AMT                   8747\n",
       "IS_SUCCESSFUL                2\n",
       "dtype: int64"
      ]
     },
     "execution_count": 4,
     "metadata": {},
     "output_type": "execute_result"
    }
   ],
   "source": [
    "# Determine the number of unique values in each column.\n",
    "application_df.nunique()"
   ]
  },
  {
   "cell_type": "code",
   "execution_count": 5,
   "metadata": {},
   "outputs": [],
   "source": [
    "# Look at APPLICATION_TYPE value counts for binning\n",
    "application_counts = application_df.APPLICATION_TYPE.value_counts()"
   ]
  },
  {
   "cell_type": "code",
   "execution_count": 6,
   "metadata": {},
   "outputs": [
    {
     "data": {
      "text/plain": [
       "T3       27037\n",
       "T4        1542\n",
       "T6        1216\n",
       "T5        1173\n",
       "T19       1065\n",
       "T8         737\n",
       "T7         725\n",
       "T10        528\n",
       "Other      276\n",
       "Name: APPLICATION_TYPE, dtype: int64"
      ]
     },
     "execution_count": 6,
     "metadata": {},
     "output_type": "execute_result"
    }
   ],
   "source": [
    "# Choose a cutoff value and create a list of application types to be replaced\n",
    "# use the variable name `application_types_to_replace`\n",
    "application_types_to_replace = list(application_counts[application_counts < 500].index)\n",
    "\n",
    "# Replace in dataframe\n",
    "for app in application_types_to_replace:\n",
    "    application_df['APPLICATION_TYPE'] = application_df['APPLICATION_TYPE'].replace(app,\"Other\")\n",
    "\n",
    "# Check to make sure binning was successful\n",
    "application_df['APPLICATION_TYPE'].value_counts()"
   ]
  },
  {
   "cell_type": "code",
   "execution_count": 7,
   "metadata": {},
   "outputs": [
    {
     "data": {
      "text/plain": [
       "C1000    17326\n",
       "C2000     6074\n",
       "C1200     4837\n",
       "C3000     1918\n",
       "C2100     1883\n",
       "         ...  \n",
       "C4120        1\n",
       "C8210        1\n",
       "C2561        1\n",
       "C4500        1\n",
       "C2150        1\n",
       "Name: CLASSIFICATION, Length: 71, dtype: int64"
      ]
     },
     "execution_count": 7,
     "metadata": {},
     "output_type": "execute_result"
    }
   ],
   "source": [
    "# Look at CLASSIFICATION value counts for binning\n",
    "classification_counts = application_df['CLASSIFICATION'].value_counts()\n",
    "classification_counts"
   ]
  },
  {
   "cell_type": "code",
   "execution_count": 8,
   "metadata": {},
   "outputs": [
    {
     "data": {
      "text/plain": [
       "C1000    17326\n",
       "C2000     6074\n",
       "C1200     4837\n",
       "C3000     1918\n",
       "C2100     1883\n",
       "C7000      777\n",
       "C1700      287\n",
       "C4000      194\n",
       "C5000      116\n",
       "C1270      114\n",
       "C2700      104\n",
       "C2800       95\n",
       "C7100       75\n",
       "C1300       58\n",
       "C1280       50\n",
       "C1230       36\n",
       "C1400       34\n",
       "C7200       32\n",
       "C2300       32\n",
       "C1240       30\n",
       "C8000       20\n",
       "C7120       18\n",
       "C1500       16\n",
       "C1800       15\n",
       "C6000       15\n",
       "C1250       14\n",
       "C8200       11\n",
       "C1238       10\n",
       "C1278       10\n",
       "C1235        9\n",
       "C1237        9\n",
       "C7210        7\n",
       "C2400        6\n",
       "C1720        6\n",
       "C4100        6\n",
       "C1257        5\n",
       "C1600        5\n",
       "C1260        3\n",
       "C2710        3\n",
       "C0           3\n",
       "C3200        2\n",
       "C1234        2\n",
       "C1246        2\n",
       "C1267        2\n",
       "C1256        2\n",
       "Name: CLASSIFICATION, dtype: int64"
      ]
     },
     "execution_count": 8,
     "metadata": {},
     "output_type": "execute_result"
    }
   ],
   "source": [
    "# You may find it helpful to look at CLASSIFICATION value counts >1\n",
    "classification_counts[classification_counts>1]"
   ]
  },
  {
   "cell_type": "code",
   "execution_count": 9,
   "metadata": {},
   "outputs": [
    {
     "data": {
      "text/plain": [
       "C1000    17326\n",
       "C2000     6074\n",
       "C1200     4837\n",
       "C3000     1918\n",
       "C2100     1883\n",
       "Other     1484\n",
       "C7000      777\n",
       "Name: CLASSIFICATION, dtype: int64"
      ]
     },
     "execution_count": 9,
     "metadata": {},
     "output_type": "execute_result"
    }
   ],
   "source": [
    "# Choose a cutoff value and create a list of classifications to be replaced\n",
    "# use the variable name `classifications_to_replace`\n",
    "classifications_to_replace = list(classification_counts[classification_counts < 500].index)\n",
    "\n",
    "# Replace in dataframe\n",
    "for cls in classifications_to_replace:\n",
    "    application_df['CLASSIFICATION'] = application_df['CLASSIFICATION'].replace(cls,\"Other\")\n",
    "    \n",
    "# Check to make sure binning was successful\n",
    "application_df['CLASSIFICATION'].value_counts()"
   ]
  },
  {
   "cell_type": "code",
   "execution_count": 10,
   "metadata": {},
   "outputs": [],
   "source": [
    "# Convert categorical data to numeric with `pd.get_dummies`\n",
    "# One-hot encode the categorical variables\n",
    "dummy_df = pd.get_dummies(application_df[['APPLICATION_TYPE', 'CLASSIFICATION']])\n",
    "merged_df = application_df.merge(dummy_df, left_index=True, right_index=True)\n",
    "merged_df = merged_df.drop(['APPLICATION_TYPE', 'CLASSIFICATION'], axis=1)"
   ]
  },
  {
   "cell_type": "code",
   "execution_count": 11,
   "metadata": {},
   "outputs": [],
   "source": [
    "# Split our preprocessed data into our features and target arrays\n",
    "X = merged_df.drop('IS_SUCCESSFUL', axis=1).values\n",
    "y = merged_df['IS_SUCCESSFUL'].values\n",
    "\n",
    "# Split the preprocessed data into a training and testing dataset\n",
    "X_train, X_test, y_train, y_test = train_test_split(X, y, random_state=42)\n"
   ]
  },
  {
   "cell_type": "code",
   "execution_count": 12,
   "metadata": {},
   "outputs": [
    {
     "name": "stdout",
     "output_type": "stream",
     "text": [
      "Categorical columns: [0, 1, 2, 3, 4, 5, 6, 7, 8, 9, 10, 11, 12, 13, 14, 15, 16, 17, 18, 19, 20, 21, 22]\n"
     ]
    }
   ],
   "source": [
    "import numpy as np\n",
    "\n",
    "# Convert X_train and X_test back to a DataFrame\n",
    "X_train = pd.DataFrame(X_train)\n",
    "X_test = pd.DataFrame(X_test)\n",
    "\n",
    "# Check data types of columns in X_train\n",
    "column_data_types = X_train.dtypes\n",
    "\n",
    "# Identify categorical columns\n",
    "cat_cols = column_data_types[column_data_types == 'object'].index.tolist()\n",
    "\n",
    "# Print the list of categorical columns\n",
    "print(\"Categorical columns:\", cat_cols)"
   ]
  },
  {
   "cell_type": "code",
   "execution_count": 13,
   "metadata": {},
   "outputs": [
    {
     "name": "stdout",
     "output_type": "stream",
     "text": [
      "X_train shape: (25724, 23)\n",
      "X_test shape: (8575, 23)\n"
     ]
    }
   ],
   "source": [
    "# Check the shape of X_train and X_test\n",
    "print(\"X_train shape:\", X_train.shape)\n",
    "print(\"X_test shape:\", X_test.shape)"
   ]
  },
  {
   "cell_type": "code",
   "execution_count": 14,
   "metadata": {},
   "outputs": [
    {
     "name": "stderr",
     "output_type": "stream",
     "text": [
      "/var/folders/sq/w5nrx3592fl25n_hv7_dbx8w0000gn/T/ipykernel_47659/1674258162.py:5: FutureWarning: In a future version, the Index constructor will not infer numeric dtypes when passed object-dtype sequences (matching Series behavior)\n",
      "  X_train = pd.get_dummies(X_train, columns=[col], prefix=[col], drop_first=True)\n",
      "/var/folders/sq/w5nrx3592fl25n_hv7_dbx8w0000gn/T/ipykernel_47659/1674258162.py:7: FutureWarning: In a future version, the Index constructor will not infer numeric dtypes when passed object-dtype sequences (matching Series behavior)\n",
      "  X_test = pd.get_dummies(X_test, columns=[col], prefix=[col], drop_first=True)\n",
      "/var/folders/sq/w5nrx3592fl25n_hv7_dbx8w0000gn/T/ipykernel_47659/1674258162.py:5: FutureWarning: In a future version, the Index constructor will not infer numeric dtypes when passed object-dtype sequences (matching Series behavior)\n",
      "  X_train = pd.get_dummies(X_train, columns=[col], prefix=[col], drop_first=True)\n",
      "/var/folders/sq/w5nrx3592fl25n_hv7_dbx8w0000gn/T/ipykernel_47659/1674258162.py:7: FutureWarning: In a future version, the Index constructor will not infer numeric dtypes when passed object-dtype sequences (matching Series behavior)\n",
      "  X_test = pd.get_dummies(X_test, columns=[col], prefix=[col], drop_first=True)\n",
      "/var/folders/sq/w5nrx3592fl25n_hv7_dbx8w0000gn/T/ipykernel_47659/1674258162.py:5: FutureWarning: In a future version, the Index constructor will not infer numeric dtypes when passed object-dtype sequences (matching Series behavior)\n",
      "  X_train = pd.get_dummies(X_train, columns=[col], prefix=[col], drop_first=True)\n",
      "/var/folders/sq/w5nrx3592fl25n_hv7_dbx8w0000gn/T/ipykernel_47659/1674258162.py:7: FutureWarning: In a future version, the Index constructor will not infer numeric dtypes when passed object-dtype sequences (matching Series behavior)\n",
      "  X_test = pd.get_dummies(X_test, columns=[col], prefix=[col], drop_first=True)\n",
      "/var/folders/sq/w5nrx3592fl25n_hv7_dbx8w0000gn/T/ipykernel_47659/1674258162.py:5: FutureWarning: In a future version, the Index constructor will not infer numeric dtypes when passed object-dtype sequences (matching Series behavior)\n",
      "  X_train = pd.get_dummies(X_train, columns=[col], prefix=[col], drop_first=True)\n",
      "/var/folders/sq/w5nrx3592fl25n_hv7_dbx8w0000gn/T/ipykernel_47659/1674258162.py:7: FutureWarning: In a future version, the Index constructor will not infer numeric dtypes when passed object-dtype sequences (matching Series behavior)\n",
      "  X_test = pd.get_dummies(X_test, columns=[col], prefix=[col], drop_first=True)\n",
      "/var/folders/sq/w5nrx3592fl25n_hv7_dbx8w0000gn/T/ipykernel_47659/1674258162.py:5: FutureWarning: In a future version, the Index constructor will not infer numeric dtypes when passed object-dtype sequences (matching Series behavior)\n",
      "  X_train = pd.get_dummies(X_train, columns=[col], prefix=[col], drop_first=True)\n",
      "/var/folders/sq/w5nrx3592fl25n_hv7_dbx8w0000gn/T/ipykernel_47659/1674258162.py:7: FutureWarning: In a future version, the Index constructor will not infer numeric dtypes when passed object-dtype sequences (matching Series behavior)\n",
      "  X_test = pd.get_dummies(X_test, columns=[col], prefix=[col], drop_first=True)\n",
      "/var/folders/sq/w5nrx3592fl25n_hv7_dbx8w0000gn/T/ipykernel_47659/1674258162.py:5: FutureWarning: In a future version, the Index constructor will not infer numeric dtypes when passed object-dtype sequences (matching Series behavior)\n",
      "  X_train = pd.get_dummies(X_train, columns=[col], prefix=[col], drop_first=True)\n",
      "/var/folders/sq/w5nrx3592fl25n_hv7_dbx8w0000gn/T/ipykernel_47659/1674258162.py:7: FutureWarning: In a future version, the Index constructor will not infer numeric dtypes when passed object-dtype sequences (matching Series behavior)\n",
      "  X_test = pd.get_dummies(X_test, columns=[col], prefix=[col], drop_first=True)\n",
      "/var/folders/sq/w5nrx3592fl25n_hv7_dbx8w0000gn/T/ipykernel_47659/1674258162.py:5: FutureWarning: In a future version, the Index constructor will not infer numeric dtypes when passed object-dtype sequences (matching Series behavior)\n",
      "  X_train = pd.get_dummies(X_train, columns=[col], prefix=[col], drop_first=True)\n",
      "/var/folders/sq/w5nrx3592fl25n_hv7_dbx8w0000gn/T/ipykernel_47659/1674258162.py:7: FutureWarning: In a future version, the Index constructor will not infer numeric dtypes when passed object-dtype sequences (matching Series behavior)\n",
      "  X_test = pd.get_dummies(X_test, columns=[col], prefix=[col], drop_first=True)\n",
      "/var/folders/sq/w5nrx3592fl25n_hv7_dbx8w0000gn/T/ipykernel_47659/1674258162.py:5: FutureWarning: In a future version, the Index constructor will not infer numeric dtypes when passed object-dtype sequences (matching Series behavior)\n",
      "  X_train = pd.get_dummies(X_train, columns=[col], prefix=[col], drop_first=True)\n",
      "/var/folders/sq/w5nrx3592fl25n_hv7_dbx8w0000gn/T/ipykernel_47659/1674258162.py:7: FutureWarning: In a future version, the Index constructor will not infer numeric dtypes when passed object-dtype sequences (matching Series behavior)\n",
      "  X_test = pd.get_dummies(X_test, columns=[col], prefix=[col], drop_first=True)\n",
      "/var/folders/sq/w5nrx3592fl25n_hv7_dbx8w0000gn/T/ipykernel_47659/1674258162.py:5: FutureWarning: In a future version, the Index constructor will not infer numeric dtypes when passed object-dtype sequences (matching Series behavior)\n",
      "  X_train = pd.get_dummies(X_train, columns=[col], prefix=[col], drop_first=True)\n",
      "/var/folders/sq/w5nrx3592fl25n_hv7_dbx8w0000gn/T/ipykernel_47659/1674258162.py:7: FutureWarning: In a future version, the Index constructor will not infer numeric dtypes when passed object-dtype sequences (matching Series behavior)\n",
      "  X_test = pd.get_dummies(X_test, columns=[col], prefix=[col], drop_first=True)\n",
      "/var/folders/sq/w5nrx3592fl25n_hv7_dbx8w0000gn/T/ipykernel_47659/1674258162.py:5: FutureWarning: In a future version, the Index constructor will not infer numeric dtypes when passed object-dtype sequences (matching Series behavior)\n",
      "  X_train = pd.get_dummies(X_train, columns=[col], prefix=[col], drop_first=True)\n",
      "/var/folders/sq/w5nrx3592fl25n_hv7_dbx8w0000gn/T/ipykernel_47659/1674258162.py:7: FutureWarning: In a future version, the Index constructor will not infer numeric dtypes when passed object-dtype sequences (matching Series behavior)\n",
      "  X_test = pd.get_dummies(X_test, columns=[col], prefix=[col], drop_first=True)\n",
      "/var/folders/sq/w5nrx3592fl25n_hv7_dbx8w0000gn/T/ipykernel_47659/1674258162.py:5: FutureWarning: In a future version, the Index constructor will not infer numeric dtypes when passed object-dtype sequences (matching Series behavior)\n",
      "  X_train = pd.get_dummies(X_train, columns=[col], prefix=[col], drop_first=True)\n",
      "/var/folders/sq/w5nrx3592fl25n_hv7_dbx8w0000gn/T/ipykernel_47659/1674258162.py:7: FutureWarning: In a future version, the Index constructor will not infer numeric dtypes when passed object-dtype sequences (matching Series behavior)\n",
      "  X_test = pd.get_dummies(X_test, columns=[col], prefix=[col], drop_first=True)\n",
      "/var/folders/sq/w5nrx3592fl25n_hv7_dbx8w0000gn/T/ipykernel_47659/1674258162.py:5: FutureWarning: In a future version, the Index constructor will not infer numeric dtypes when passed object-dtype sequences (matching Series behavior)\n",
      "  X_train = pd.get_dummies(X_train, columns=[col], prefix=[col], drop_first=True)\n",
      "/var/folders/sq/w5nrx3592fl25n_hv7_dbx8w0000gn/T/ipykernel_47659/1674258162.py:7: FutureWarning: In a future version, the Index constructor will not infer numeric dtypes when passed object-dtype sequences (matching Series behavior)\n",
      "  X_test = pd.get_dummies(X_test, columns=[col], prefix=[col], drop_first=True)\n",
      "/var/folders/sq/w5nrx3592fl25n_hv7_dbx8w0000gn/T/ipykernel_47659/1674258162.py:5: FutureWarning: In a future version, the Index constructor will not infer numeric dtypes when passed object-dtype sequences (matching Series behavior)\n",
      "  X_train = pd.get_dummies(X_train, columns=[col], prefix=[col], drop_first=True)\n",
      "/var/folders/sq/w5nrx3592fl25n_hv7_dbx8w0000gn/T/ipykernel_47659/1674258162.py:7: FutureWarning: In a future version, the Index constructor will not infer numeric dtypes when passed object-dtype sequences (matching Series behavior)\n",
      "  X_test = pd.get_dummies(X_test, columns=[col], prefix=[col], drop_first=True)\n",
      "/var/folders/sq/w5nrx3592fl25n_hv7_dbx8w0000gn/T/ipykernel_47659/1674258162.py:5: FutureWarning: In a future version, the Index constructor will not infer numeric dtypes when passed object-dtype sequences (matching Series behavior)\n",
      "  X_train = pd.get_dummies(X_train, columns=[col], prefix=[col], drop_first=True)\n",
      "/var/folders/sq/w5nrx3592fl25n_hv7_dbx8w0000gn/T/ipykernel_47659/1674258162.py:7: FutureWarning: In a future version, the Index constructor will not infer numeric dtypes when passed object-dtype sequences (matching Series behavior)\n",
      "  X_test = pd.get_dummies(X_test, columns=[col], prefix=[col], drop_first=True)\n",
      "/var/folders/sq/w5nrx3592fl25n_hv7_dbx8w0000gn/T/ipykernel_47659/1674258162.py:5: FutureWarning: In a future version, the Index constructor will not infer numeric dtypes when passed object-dtype sequences (matching Series behavior)\n",
      "  X_train = pd.get_dummies(X_train, columns=[col], prefix=[col], drop_first=True)\n",
      "/var/folders/sq/w5nrx3592fl25n_hv7_dbx8w0000gn/T/ipykernel_47659/1674258162.py:7: FutureWarning: In a future version, the Index constructor will not infer numeric dtypes when passed object-dtype sequences (matching Series behavior)\n",
      "  X_test = pd.get_dummies(X_test, columns=[col], prefix=[col], drop_first=True)\n",
      "/var/folders/sq/w5nrx3592fl25n_hv7_dbx8w0000gn/T/ipykernel_47659/1674258162.py:5: FutureWarning: In a future version, the Index constructor will not infer numeric dtypes when passed object-dtype sequences (matching Series behavior)\n",
      "  X_train = pd.get_dummies(X_train, columns=[col], prefix=[col], drop_first=True)\n",
      "/var/folders/sq/w5nrx3592fl25n_hv7_dbx8w0000gn/T/ipykernel_47659/1674258162.py:7: FutureWarning: In a future version, the Index constructor will not infer numeric dtypes when passed object-dtype sequences (matching Series behavior)\n",
      "  X_test = pd.get_dummies(X_test, columns=[col], prefix=[col], drop_first=True)\n",
      "/var/folders/sq/w5nrx3592fl25n_hv7_dbx8w0000gn/T/ipykernel_47659/1674258162.py:5: FutureWarning: In a future version, the Index constructor will not infer numeric dtypes when passed object-dtype sequences (matching Series behavior)\n",
      "  X_train = pd.get_dummies(X_train, columns=[col], prefix=[col], drop_first=True)\n",
      "/var/folders/sq/w5nrx3592fl25n_hv7_dbx8w0000gn/T/ipykernel_47659/1674258162.py:7: FutureWarning: In a future version, the Index constructor will not infer numeric dtypes when passed object-dtype sequences (matching Series behavior)\n",
      "  X_test = pd.get_dummies(X_test, columns=[col], prefix=[col], drop_first=True)\n",
      "/var/folders/sq/w5nrx3592fl25n_hv7_dbx8w0000gn/T/ipykernel_47659/1674258162.py:5: FutureWarning: In a future version, the Index constructor will not infer numeric dtypes when passed object-dtype sequences (matching Series behavior)\n",
      "  X_train = pd.get_dummies(X_train, columns=[col], prefix=[col], drop_first=True)\n",
      "/var/folders/sq/w5nrx3592fl25n_hv7_dbx8w0000gn/T/ipykernel_47659/1674258162.py:7: FutureWarning: In a future version, the Index constructor will not infer numeric dtypes when passed object-dtype sequences (matching Series behavior)\n",
      "  X_test = pd.get_dummies(X_test, columns=[col], prefix=[col], drop_first=True)\n"
     ]
    }
   ],
   "source": [
    "# Convert categorical data to numeric with pd.get_dummies\n",
    "# One-hot encode the categorical variables in X_train and X_test\n",
    "for col in cat_cols:\n",
    "    if col in X_train.columns:\n",
    "        X_train = pd.get_dummies(X_train, columns=[col], prefix=[col], drop_first=True)\n",
    "    if col in X_test.columns:\n",
    "        X_test = pd.get_dummies(X_test, columns=[col], prefix=[col], drop_first=True)\n",
    "        \n",
    "# Align the columns in X_train and X_test\n",
    "X_train, X_test = X_train.align(X_test, join='left', axis=1, fill_value=0)\n",
    "\n",
    "# Create a StandardScaler instances\n",
    "scaler = StandardScaler()\n",
    "\n",
    "# Fit the StandardScaler\n",
    "X_scaler = scaler.fit(X_train)\n",
    "\n",
    "# Scale the data\n",
    "X_train_scaled = X_scaler.transform(X_train)\n",
    "X_test_scaled = X_scaler.transform(X_test)"
   ]
  },
  {
   "cell_type": "markdown",
   "metadata": {},
   "source": [
    "## Compile, Train and Evaluate the Model"
   ]
  },
  {
   "cell_type": "code",
   "execution_count": 15,
   "metadata": {},
   "outputs": [
    {
     "name": "stdout",
     "output_type": "stream",
     "text": [
      "Model: \"sequential\"\n",
      "_________________________________________________________________\n",
      " Layer (type)                Output Shape              Param #   \n",
      "=================================================================\n",
      " dense (Dense)               (None, 10)                66060     \n",
      "                                                                 \n",
      " dense_1 (Dense)             (None, 5)                 55        \n",
      "                                                                 \n",
      " dense_2 (Dense)             (None, 1)                 6         \n",
      "                                                                 \n",
      "=================================================================\n",
      "Total params: 66,121\n",
      "Trainable params: 66,121\n",
      "Non-trainable params: 0\n",
      "_________________________________________________________________\n"
     ]
    }
   ],
   "source": [
    "# Define the model - deep neural net, i.e., the number of input features and hidden nodes for each layer.\n",
    "\n",
    "nn = Sequential()\n",
    "\n",
    "# First hidden layer\n",
    "nn.add(Dense(units=10, activation='relu', input_dim=X_train.shape[1]))\n",
    "\n",
    "# Second hidden layer\n",
    "nn.add(Dense(units=5, activation='relu'))\n",
    "\n",
    "# Output layer\n",
    "nn.add(Dense(units=1, activation='sigmoid'))\n",
    "\n",
    "# Check the structure of the model\n",
    "nn.summary()"
   ]
  },
  {
   "cell_type": "code",
   "execution_count": 16,
   "metadata": {},
   "outputs": [],
   "source": [
    "# Compile the model\n",
    "nn.compile(loss='binary_crossentropy', optimizer='adam', metrics=['accuracy'])"
   ]
  },
  {
   "cell_type": "code",
   "execution_count": 17,
   "metadata": {},
   "outputs": [
    {
     "name": "stdout",
     "output_type": "stream",
     "text": [
      "Epoch 1/10\n",
      "804/804 [==============================] - 2s 1ms/step - loss: 0.7351 - accuracy: 0.5815\n",
      "Epoch 2/10\n",
      "804/804 [==============================] - 1s 1ms/step - loss: 0.5144 - accuracy: 0.7790\n",
      "Epoch 3/10\n",
      "804/804 [==============================] - 1s 1ms/step - loss: 0.4389 - accuracy: 0.8028\n",
      "Epoch 4/10\n",
      "804/804 [==============================] - 1s 1ms/step - loss: 0.4245 - accuracy: 0.8061\n",
      "Epoch 5/10\n",
      "804/804 [==============================] - 1s 1ms/step - loss: 0.4195 - accuracy: 0.8079\n",
      "Epoch 6/10\n",
      "804/804 [==============================] - 1s 1ms/step - loss: 0.4152 - accuracy: 0.8084\n",
      "Epoch 7/10\n",
      "804/804 [==============================] - 1s 1ms/step - loss: 0.4111 - accuracy: 0.8092\n",
      "Epoch 8/10\n",
      "804/804 [==============================] - 1s 1ms/step - loss: 0.4085 - accuracy: 0.8096\n",
      "Epoch 9/10\n",
      "804/804 [==============================] - 1s 1ms/step - loss: 0.4057 - accuracy: 0.8096\n",
      "Epoch 10/10\n",
      "804/804 [==============================] - 1s 1ms/step - loss: 0.4047 - accuracy: 0.8090\n"
     ]
    },
    {
     "data": {
      "text/plain": [
       "<keras.callbacks.History at 0x7fbd589f4e80>"
      ]
     },
     "execution_count": 17,
     "metadata": {},
     "output_type": "execute_result"
    }
   ],
   "source": [
    "# Train the model\n",
    "nn.fit(X_train_scaled, y_train, epochs=10, batch_size=32, verbose=1)"
   ]
  },
  {
   "cell_type": "code",
   "execution_count": 18,
   "metadata": {},
   "outputs": [
    {
     "name": "stdout",
     "output_type": "stream",
     "text": [
      "268/268 - 0s - loss: 0.6315 - accuracy: 0.7108 - 326ms/epoch - 1ms/step\n",
      "Loss: 0.6314917206764221, Accuracy: 0.7107871770858765\n"
     ]
    }
   ],
   "source": [
    "# Evaluate the model using the test data\n",
    "model_loss, model_accuracy = nn.evaluate(X_test_scaled,y_test,verbose=2)\n",
    "print(f\"Loss: {model_loss}, Accuracy: {model_accuracy}\")"
   ]
  },
  {
   "cell_type": "code",
   "execution_count": 19,
   "metadata": {},
   "outputs": [],
   "source": [
    "# Export our model to HDF5 file\n",
    "nn.save('model.h5')"
   ]
  }
 ],
 "metadata": {
  "kernelspec": {
   "display_name": "Python 3.9.12 ('base')",
   "language": "python",
   "name": "python3"
  },
  "language_info": {
   "codemirror_mode": {
    "name": "ipython",
    "version": 3
   },
   "file_extension": ".py",
   "mimetype": "text/x-python",
   "name": "python",
   "nbconvert_exporter": "python",
   "pygments_lexer": "ipython3",
   "version": "3.9.12"
  },
  "vscode": {
   "interpreter": {
    "hash": "9164f9f156afd3270be00908a629fdf90d3514ea3445c456a2207d485b2a9e05"
   }
  }
 },
 "nbformat": 4,
 "nbformat_minor": 4
}
