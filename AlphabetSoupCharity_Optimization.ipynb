{
 "cells": [
  {
   "cell_type": "code",
   "execution_count": 1,
   "metadata": {},
   "outputs": [
    {
     "name": "stderr",
     "output_type": "stream",
     "text": [
      "2023-04-17 14:13:24.045511: I tensorflow/core/platform/cpu_feature_guard.cc:193] This TensorFlow binary is optimized with oneAPI Deep Neural Network Library (oneDNN) to use the following CPU instructions in performance-critical operations:  SSE4.1 SSE4.2\n",
      "To enable them in other operations, rebuild TensorFlow with the appropriate compiler flags.\n"
     ]
    }
   ],
   "source": [
    "# Import our dependencies\n",
    "import pandas as pd\n",
    "import numpy as np\n",
    "import tensorflow as tf\n",
    "from tensorflow.keras.models import Sequential\n",
    "from tensorflow.keras.layers import Dense\n",
    "from sklearn.model_selection import train_test_split\n",
    "from sklearn.preprocessing import StandardScaler\n",
    "\n",
    "np.random.seed(42)\n",
    "tf.random.set_seed(42)\n",
    "\n",
    "#  Import and read the charity_data.csv.\n",
    "df = pd.read_csv(\"https://static.bc-edx.com/data/dl-1-2/m21/lms/starter/charity_data.csv\")"
   ]
  },
  {
   "cell_type": "code",
   "execution_count": 2,
   "metadata": {},
   "outputs": [],
   "source": [
    "# Drop unnecessary columns based on domain knowledge or feature importance analysis\n",
    "application_df = df.drop(columns=['EIN', 'NAME'])"
   ]
  },
  {
   "cell_type": "code",
   "execution_count": 3,
   "metadata": {},
   "outputs": [],
   "source": [
    "# Look at APPLICATION_TYPE value counts for binning\n",
    "application_counts = application_df.APPLICATION_TYPE.value_counts()"
   ]
  },
  {
   "cell_type": "code",
   "execution_count": 4,
   "metadata": {},
   "outputs": [
    {
     "data": {
      "text/plain": [
       "T3       27037\n",
       "T4        1542\n",
       "T6        1216\n",
       "T5        1173\n",
       "T19       1065\n",
       "T8         737\n",
       "T7         725\n",
       "T10        528\n",
       "Other      276\n",
       "Name: APPLICATION_TYPE, dtype: int64"
      ]
     },
     "execution_count": 4,
     "metadata": {},
     "output_type": "execute_result"
    }
   ],
   "source": [
    "# Choose a cutoff value and create a list of application types to be replaced\n",
    "# use the variable name `application_types_to_replace`\n",
    "application_types_to_replace = list(application_counts[application_counts < 500].index)\n",
    "\n",
    "# Replace in dataframe\n",
    "for app in application_types_to_replace:\n",
    "    application_df['APPLICATION_TYPE'] = application_df['APPLICATION_TYPE'].replace(app,\"Other\")\n",
    "\n",
    "# Check to make sure binning was successful\n",
    "application_df['APPLICATION_TYPE'].value_counts()"
   ]
  },
  {
   "cell_type": "code",
   "execution_count": 5,
   "metadata": {},
   "outputs": [],
   "source": [
    "# Look at CLASSIFICATION value counts for binning\n",
    "classification_counts = application_df['CLASSIFICATION'].value_counts()"
   ]
  },
  {
   "cell_type": "code",
   "execution_count": 6,
   "metadata": {},
   "outputs": [
    {
     "data": {
      "text/plain": [
       "C1000    17326\n",
       "C2000     6074\n",
       "C1200     4837\n",
       "C3000     1918\n",
       "C2100     1883\n",
       "Other     1484\n",
       "C7000      777\n",
       "Name: CLASSIFICATION, dtype: int64"
      ]
     },
     "execution_count": 6,
     "metadata": {},
     "output_type": "execute_result"
    }
   ],
   "source": [
    "# Choose a cutoff value and create a list of classifications to be replaced\n",
    "# use the variable name `classifications_to_replace`\n",
    "classifications_to_replace = list(classification_counts[classification_counts < 500].index)\n",
    "\n",
    "# Replace in dataframe\n",
    "for cls in classifications_to_replace:\n",
    "    application_df['CLASSIFICATION'] = application_df['CLASSIFICATION'].replace(cls,\"Other\")\n",
    "    \n",
    "# Check to make sure binning was successful\n",
    "application_df['CLASSIFICATION'].value_counts()"
   ]
  },
  {
   "cell_type": "code",
   "execution_count": 7,
   "metadata": {},
   "outputs": [],
   "source": [
    "# Convert categorical data to numeric with `pd.get_dummies`\n",
    "# One-hot encode the categorical variables\n",
    "dummy_df = pd.get_dummies(application_df[['APPLICATION_TYPE', 'CLASSIFICATION']])\n",
    "merged_df = application_df.merge(dummy_df, left_index=True, right_index=True)\n",
    "merged_df = merged_df.drop(['APPLICATION_TYPE', 'CLASSIFICATION'], axis=1)"
   ]
  },
  {
   "cell_type": "code",
   "execution_count": 8,
   "metadata": {},
   "outputs": [],
   "source": [
    "# Split the data into features (X) and target (y)\n",
    "X = merged_df.drop('IS_SUCCESSFUL', axis=1).values\n",
    "y = merged_df['IS_SUCCESSFUL'].values"
   ]
  },
  {
   "cell_type": "code",
   "execution_count": 9,
   "metadata": {},
   "outputs": [],
   "source": [
    "# Split the data into training and testing sets\n",
    "X_train, X_test, y_train, y_test = train_test_split(X, y, random_state=42)"
   ]
  },
  {
   "cell_type": "code",
   "execution_count": 10,
   "metadata": {},
   "outputs": [],
   "source": [
    "# Convert X_train and X_test back to a DataFrame\n",
    "X_train = pd.DataFrame(X_train)\n",
    "X_test = pd.DataFrame(X_test)\n",
    "\n",
    "# Check data types of columns in X_train\n",
    "column_data_types = X_train.dtypes\n",
    "\n",
    "# Identify categorical columns\n",
    "cat_cols = column_data_types[column_data_types == 'object'].index.tolist()"
   ]
  },
  {
   "cell_type": "code",
   "execution_count": 11,
   "metadata": {},
   "outputs": [
    {
     "name": "stderr",
     "output_type": "stream",
     "text": [
      "/var/folders/sq/w5nrx3592fl25n_hv7_dbx8w0000gn/T/ipykernel_52757/3510639995.py:5: FutureWarning: In a future version, the Index constructor will not infer numeric dtypes when passed object-dtype sequences (matching Series behavior)\n",
      "  X_train = pd.get_dummies(X_train, columns=[col], prefix=[col], drop_first=True)\n",
      "/var/folders/sq/w5nrx3592fl25n_hv7_dbx8w0000gn/T/ipykernel_52757/3510639995.py:7: FutureWarning: In a future version, the Index constructor will not infer numeric dtypes when passed object-dtype sequences (matching Series behavior)\n",
      "  X_test = pd.get_dummies(X_test, columns=[col], prefix=[col], drop_first=True)\n",
      "/var/folders/sq/w5nrx3592fl25n_hv7_dbx8w0000gn/T/ipykernel_52757/3510639995.py:5: FutureWarning: In a future version, the Index constructor will not infer numeric dtypes when passed object-dtype sequences (matching Series behavior)\n",
      "  X_train = pd.get_dummies(X_train, columns=[col], prefix=[col], drop_first=True)\n",
      "/var/folders/sq/w5nrx3592fl25n_hv7_dbx8w0000gn/T/ipykernel_52757/3510639995.py:7: FutureWarning: In a future version, the Index constructor will not infer numeric dtypes when passed object-dtype sequences (matching Series behavior)\n",
      "  X_test = pd.get_dummies(X_test, columns=[col], prefix=[col], drop_first=True)\n",
      "/var/folders/sq/w5nrx3592fl25n_hv7_dbx8w0000gn/T/ipykernel_52757/3510639995.py:5: FutureWarning: In a future version, the Index constructor will not infer numeric dtypes when passed object-dtype sequences (matching Series behavior)\n",
      "  X_train = pd.get_dummies(X_train, columns=[col], prefix=[col], drop_first=True)\n",
      "/var/folders/sq/w5nrx3592fl25n_hv7_dbx8w0000gn/T/ipykernel_52757/3510639995.py:7: FutureWarning: In a future version, the Index constructor will not infer numeric dtypes when passed object-dtype sequences (matching Series behavior)\n",
      "  X_test = pd.get_dummies(X_test, columns=[col], prefix=[col], drop_first=True)\n",
      "/var/folders/sq/w5nrx3592fl25n_hv7_dbx8w0000gn/T/ipykernel_52757/3510639995.py:5: FutureWarning: In a future version, the Index constructor will not infer numeric dtypes when passed object-dtype sequences (matching Series behavior)\n",
      "  X_train = pd.get_dummies(X_train, columns=[col], prefix=[col], drop_first=True)\n",
      "/var/folders/sq/w5nrx3592fl25n_hv7_dbx8w0000gn/T/ipykernel_52757/3510639995.py:7: FutureWarning: In a future version, the Index constructor will not infer numeric dtypes when passed object-dtype sequences (matching Series behavior)\n",
      "  X_test = pd.get_dummies(X_test, columns=[col], prefix=[col], drop_first=True)\n",
      "/var/folders/sq/w5nrx3592fl25n_hv7_dbx8w0000gn/T/ipykernel_52757/3510639995.py:5: FutureWarning: In a future version, the Index constructor will not infer numeric dtypes when passed object-dtype sequences (matching Series behavior)\n",
      "  X_train = pd.get_dummies(X_train, columns=[col], prefix=[col], drop_first=True)\n",
      "/var/folders/sq/w5nrx3592fl25n_hv7_dbx8w0000gn/T/ipykernel_52757/3510639995.py:7: FutureWarning: In a future version, the Index constructor will not infer numeric dtypes when passed object-dtype sequences (matching Series behavior)\n",
      "  X_test = pd.get_dummies(X_test, columns=[col], prefix=[col], drop_first=True)\n",
      "/var/folders/sq/w5nrx3592fl25n_hv7_dbx8w0000gn/T/ipykernel_52757/3510639995.py:5: FutureWarning: In a future version, the Index constructor will not infer numeric dtypes when passed object-dtype sequences (matching Series behavior)\n",
      "  X_train = pd.get_dummies(X_train, columns=[col], prefix=[col], drop_first=True)\n",
      "/var/folders/sq/w5nrx3592fl25n_hv7_dbx8w0000gn/T/ipykernel_52757/3510639995.py:7: FutureWarning: In a future version, the Index constructor will not infer numeric dtypes when passed object-dtype sequences (matching Series behavior)\n",
      "  X_test = pd.get_dummies(X_test, columns=[col], prefix=[col], drop_first=True)\n",
      "/var/folders/sq/w5nrx3592fl25n_hv7_dbx8w0000gn/T/ipykernel_52757/3510639995.py:5: FutureWarning: In a future version, the Index constructor will not infer numeric dtypes when passed object-dtype sequences (matching Series behavior)\n",
      "  X_train = pd.get_dummies(X_train, columns=[col], prefix=[col], drop_first=True)\n",
      "/var/folders/sq/w5nrx3592fl25n_hv7_dbx8w0000gn/T/ipykernel_52757/3510639995.py:7: FutureWarning: In a future version, the Index constructor will not infer numeric dtypes when passed object-dtype sequences (matching Series behavior)\n",
      "  X_test = pd.get_dummies(X_test, columns=[col], prefix=[col], drop_first=True)\n",
      "/var/folders/sq/w5nrx3592fl25n_hv7_dbx8w0000gn/T/ipykernel_52757/3510639995.py:5: FutureWarning: In a future version, the Index constructor will not infer numeric dtypes when passed object-dtype sequences (matching Series behavior)\n",
      "  X_train = pd.get_dummies(X_train, columns=[col], prefix=[col], drop_first=True)\n",
      "/var/folders/sq/w5nrx3592fl25n_hv7_dbx8w0000gn/T/ipykernel_52757/3510639995.py:7: FutureWarning: In a future version, the Index constructor will not infer numeric dtypes when passed object-dtype sequences (matching Series behavior)\n",
      "  X_test = pd.get_dummies(X_test, columns=[col], prefix=[col], drop_first=True)\n",
      "/var/folders/sq/w5nrx3592fl25n_hv7_dbx8w0000gn/T/ipykernel_52757/3510639995.py:5: FutureWarning: In a future version, the Index constructor will not infer numeric dtypes when passed object-dtype sequences (matching Series behavior)\n",
      "  X_train = pd.get_dummies(X_train, columns=[col], prefix=[col], drop_first=True)\n",
      "/var/folders/sq/w5nrx3592fl25n_hv7_dbx8w0000gn/T/ipykernel_52757/3510639995.py:7: FutureWarning: In a future version, the Index constructor will not infer numeric dtypes when passed object-dtype sequences (matching Series behavior)\n",
      "  X_test = pd.get_dummies(X_test, columns=[col], prefix=[col], drop_first=True)\n",
      "/var/folders/sq/w5nrx3592fl25n_hv7_dbx8w0000gn/T/ipykernel_52757/3510639995.py:5: FutureWarning: In a future version, the Index constructor will not infer numeric dtypes when passed object-dtype sequences (matching Series behavior)\n",
      "  X_train = pd.get_dummies(X_train, columns=[col], prefix=[col], drop_first=True)\n",
      "/var/folders/sq/w5nrx3592fl25n_hv7_dbx8w0000gn/T/ipykernel_52757/3510639995.py:7: FutureWarning: In a future version, the Index constructor will not infer numeric dtypes when passed object-dtype sequences (matching Series behavior)\n",
      "  X_test = pd.get_dummies(X_test, columns=[col], prefix=[col], drop_first=True)\n",
      "/var/folders/sq/w5nrx3592fl25n_hv7_dbx8w0000gn/T/ipykernel_52757/3510639995.py:5: FutureWarning: In a future version, the Index constructor will not infer numeric dtypes when passed object-dtype sequences (matching Series behavior)\n",
      "  X_train = pd.get_dummies(X_train, columns=[col], prefix=[col], drop_first=True)\n",
      "/var/folders/sq/w5nrx3592fl25n_hv7_dbx8w0000gn/T/ipykernel_52757/3510639995.py:7: FutureWarning: In a future version, the Index constructor will not infer numeric dtypes when passed object-dtype sequences (matching Series behavior)\n",
      "  X_test = pd.get_dummies(X_test, columns=[col], prefix=[col], drop_first=True)\n",
      "/var/folders/sq/w5nrx3592fl25n_hv7_dbx8w0000gn/T/ipykernel_52757/3510639995.py:5: FutureWarning: In a future version, the Index constructor will not infer numeric dtypes when passed object-dtype sequences (matching Series behavior)\n",
      "  X_train = pd.get_dummies(X_train, columns=[col], prefix=[col], drop_first=True)\n",
      "/var/folders/sq/w5nrx3592fl25n_hv7_dbx8w0000gn/T/ipykernel_52757/3510639995.py:7: FutureWarning: In a future version, the Index constructor will not infer numeric dtypes when passed object-dtype sequences (matching Series behavior)\n",
      "  X_test = pd.get_dummies(X_test, columns=[col], prefix=[col], drop_first=True)\n",
      "/var/folders/sq/w5nrx3592fl25n_hv7_dbx8w0000gn/T/ipykernel_52757/3510639995.py:5: FutureWarning: In a future version, the Index constructor will not infer numeric dtypes when passed object-dtype sequences (matching Series behavior)\n",
      "  X_train = pd.get_dummies(X_train, columns=[col], prefix=[col], drop_first=True)\n",
      "/var/folders/sq/w5nrx3592fl25n_hv7_dbx8w0000gn/T/ipykernel_52757/3510639995.py:7: FutureWarning: In a future version, the Index constructor will not infer numeric dtypes when passed object-dtype sequences (matching Series behavior)\n",
      "  X_test = pd.get_dummies(X_test, columns=[col], prefix=[col], drop_first=True)\n",
      "/var/folders/sq/w5nrx3592fl25n_hv7_dbx8w0000gn/T/ipykernel_52757/3510639995.py:5: FutureWarning: In a future version, the Index constructor will not infer numeric dtypes when passed object-dtype sequences (matching Series behavior)\n",
      "  X_train = pd.get_dummies(X_train, columns=[col], prefix=[col], drop_first=True)\n",
      "/var/folders/sq/w5nrx3592fl25n_hv7_dbx8w0000gn/T/ipykernel_52757/3510639995.py:7: FutureWarning: In a future version, the Index constructor will not infer numeric dtypes when passed object-dtype sequences (matching Series behavior)\n",
      "  X_test = pd.get_dummies(X_test, columns=[col], prefix=[col], drop_first=True)\n",
      "/var/folders/sq/w5nrx3592fl25n_hv7_dbx8w0000gn/T/ipykernel_52757/3510639995.py:5: FutureWarning: In a future version, the Index constructor will not infer numeric dtypes when passed object-dtype sequences (matching Series behavior)\n",
      "  X_train = pd.get_dummies(X_train, columns=[col], prefix=[col], drop_first=True)\n",
      "/var/folders/sq/w5nrx3592fl25n_hv7_dbx8w0000gn/T/ipykernel_52757/3510639995.py:7: FutureWarning: In a future version, the Index constructor will not infer numeric dtypes when passed object-dtype sequences (matching Series behavior)\n",
      "  X_test = pd.get_dummies(X_test, columns=[col], prefix=[col], drop_first=True)\n",
      "/var/folders/sq/w5nrx3592fl25n_hv7_dbx8w0000gn/T/ipykernel_52757/3510639995.py:5: FutureWarning: In a future version, the Index constructor will not infer numeric dtypes when passed object-dtype sequences (matching Series behavior)\n",
      "  X_train = pd.get_dummies(X_train, columns=[col], prefix=[col], drop_first=True)\n",
      "/var/folders/sq/w5nrx3592fl25n_hv7_dbx8w0000gn/T/ipykernel_52757/3510639995.py:7: FutureWarning: In a future version, the Index constructor will not infer numeric dtypes when passed object-dtype sequences (matching Series behavior)\n",
      "  X_test = pd.get_dummies(X_test, columns=[col], prefix=[col], drop_first=True)\n",
      "/var/folders/sq/w5nrx3592fl25n_hv7_dbx8w0000gn/T/ipykernel_52757/3510639995.py:5: FutureWarning: In a future version, the Index constructor will not infer numeric dtypes when passed object-dtype sequences (matching Series behavior)\n",
      "  X_train = pd.get_dummies(X_train, columns=[col], prefix=[col], drop_first=True)\n",
      "/var/folders/sq/w5nrx3592fl25n_hv7_dbx8w0000gn/T/ipykernel_52757/3510639995.py:7: FutureWarning: In a future version, the Index constructor will not infer numeric dtypes when passed object-dtype sequences (matching Series behavior)\n",
      "  X_test = pd.get_dummies(X_test, columns=[col], prefix=[col], drop_first=True)\n",
      "/var/folders/sq/w5nrx3592fl25n_hv7_dbx8w0000gn/T/ipykernel_52757/3510639995.py:5: FutureWarning: In a future version, the Index constructor will not infer numeric dtypes when passed object-dtype sequences (matching Series behavior)\n",
      "  X_train = pd.get_dummies(X_train, columns=[col], prefix=[col], drop_first=True)\n",
      "/var/folders/sq/w5nrx3592fl25n_hv7_dbx8w0000gn/T/ipykernel_52757/3510639995.py:7: FutureWarning: In a future version, the Index constructor will not infer numeric dtypes when passed object-dtype sequences (matching Series behavior)\n",
      "  X_test = pd.get_dummies(X_test, columns=[col], prefix=[col], drop_first=True)\n"
     ]
    }
   ],
   "source": [
    "# Convert categorical data to numeric with pd.get_dummies\n",
    "# One-hot encode the categorical variables in X_train and X_test\n",
    "for col in cat_cols:\n",
    "    if col in X_train.columns:\n",
    "        X_train = pd.get_dummies(X_train, columns=[col], prefix=[col], drop_first=True)\n",
    "    if col in X_test.columns:\n",
    "        X_test = pd.get_dummies(X_test, columns=[col], prefix=[col], drop_first=True)\n",
    "        \n",
    "# Align the columns in X_train and X_test\n",
    "X_train, X_test = X_train.align(X_test, join='left', axis=1, fill_value=0)"
   ]
  },
  {
   "cell_type": "code",
   "execution_count": 12,
   "metadata": {},
   "outputs": [],
   "source": [
    "# Scale the data using StandardScaler\n",
    "scaler = StandardScaler()\n",
    "X_train_scaled = scaler.fit_transform(X_train)\n",
    "X_test_scaled = scaler.transform(X_test)"
   ]
  },
  {
   "cell_type": "markdown",
   "metadata": {},
   "source": [
    "# Compile, Train, and Evaluate the Model"
   ]
  },
  {
   "cell_type": "code",
   "execution_count": 13,
   "metadata": {},
   "outputs": [
    {
     "name": "stdout",
     "output_type": "stream",
     "text": [
      "Model: \"sequential\"\n",
      "_________________________________________________________________\n",
      " Layer (type)                Output Shape              Param #   \n",
      "=================================================================\n",
      " dense (Dense)               (None, 10)                66060     \n",
      "                                                                 \n",
      " dense_1 (Dense)             (None, 5)                 55        \n",
      "                                                                 \n",
      " dense_2 (Dense)             (None, 1)                 6         \n",
      "                                                                 \n",
      "=================================================================\n",
      "Total params: 66,121\n",
      "Trainable params: 66,121\n",
      "Non-trainable params: 0\n",
      "_________________________________________________________________\n"
     ]
    }
   ],
   "source": [
    "# Define the model - deep neural net, i.e., the number of input features and hidden nodes for each layer.\n",
    "\n",
    "nn0 = Sequential()\n",
    "\n",
    "# First hidden layer\n",
    "nn0.add(Dense(units=10, activation='relu', input_dim=X_train.shape[1]))\n",
    "\n",
    "# Second hidden layer\n",
    "nn0.add(Dense(units=5, activation='relu'))\n",
    "\n",
    "# Output layer\n",
    "nn0.add(Dense(units=1, activation='sigmoid'))\n",
    "\n",
    "# Check the structure of the model\n",
    "nn0.summary()"
   ]
  },
  {
   "cell_type": "code",
   "execution_count": 14,
   "metadata": {},
   "outputs": [
    {
     "name": "stdout",
     "output_type": "stream",
     "text": [
      "Epoch 1/10\n",
      "804/804 [==============================] - 1s 1ms/step - loss: 0.6756 - accuracy: 0.6552\n",
      "Epoch 2/10\n",
      "804/804 [==============================] - 1s 1ms/step - loss: 0.5299 - accuracy: 0.7683\n",
      "Epoch 3/10\n",
      "804/804 [==============================] - 1s 1ms/step - loss: 0.4315 - accuracy: 0.7995\n",
      "Epoch 4/10\n",
      "804/804 [==============================] - 1s 1ms/step - loss: 0.4145 - accuracy: 0.8025\n",
      "Epoch 5/10\n",
      "804/804 [==============================] - 1s 1ms/step - loss: 0.4099 - accuracy: 0.8045\n",
      "Epoch 6/10\n",
      "804/804 [==============================] - 1s 1ms/step - loss: 0.4077 - accuracy: 0.8052\n",
      "Epoch 7/10\n",
      "804/804 [==============================] - 1s 1ms/step - loss: 0.4061 - accuracy: 0.8050\n",
      "Epoch 8/10\n",
      "804/804 [==============================] - 1s 1ms/step - loss: 0.4054 - accuracy: 0.8061\n",
      "Epoch 9/10\n",
      "804/804 [==============================] - 1s 1ms/step - loss: 0.4054 - accuracy: 0.8059\n",
      "Epoch 10/10\n",
      "804/804 [==============================] - 1s 1ms/step - loss: 0.4042 - accuracy: 0.8073\n"
     ]
    },
    {
     "data": {
      "text/plain": [
       "<keras.callbacks.History at 0x7f9d8ebbf7c0>"
      ]
     },
     "execution_count": 14,
     "metadata": {},
     "output_type": "execute_result"
    }
   ],
   "source": [
    "# Compile the model\n",
    "nn0.compile(loss='binary_crossentropy', optimizer='adam', metrics=['accuracy'])\n",
    "\n",
    "# Train the model\n",
    "nn0.fit(X_train_scaled, y_train, epochs=10, batch_size=32, verbose=1)"
   ]
  },
  {
   "cell_type": "code",
   "execution_count": 15,
   "metadata": {},
   "outputs": [
    {
     "name": "stdout",
     "output_type": "stream",
     "text": [
      "268/268 - 0s - loss: 0.7200 - accuracy: 0.5340 - 317ms/epoch - 1ms/step\n",
      "Loss: 0.7199942469596863, Accuracy: 0.533994197845459\n"
     ]
    }
   ],
   "source": [
    "# Evaluate the model using the test data\n",
    "model_loss, model_accuracy = nn0.evaluate(X_test_scaled,y_test,verbose=2)\n",
    "print(f\"Loss: {model_loss}, Accuracy: {model_accuracy}\")"
   ]
  },
  {
   "cell_type": "markdown",
   "metadata": {},
   "source": [
    "# Optimization"
   ]
  },
  {
   "cell_type": "code",
   "execution_count": 16,
   "metadata": {},
   "outputs": [],
   "source": [
    "best_accuracy = model_accuracy\n",
    "\n",
    "# Define L1 regularization strength (lambda)\n",
    "l1_lambda = 0.01"
   ]
  },
  {
   "cell_type": "code",
   "execution_count": 17,
   "metadata": {},
   "outputs": [
    {
     "name": "stdout",
     "output_type": "stream",
     "text": [
      "Model: \"sequential_1\"\n",
      "_________________________________________________________________\n",
      " Layer (type)                Output Shape              Param #   \n",
      "=================================================================\n",
      " dense_3 (Dense)             (None, 10)                66060     \n",
      "                                                                 \n",
      " dense_4 (Dense)             (None, 5)                 55        \n",
      "                                                                 \n",
      " dense_5 (Dense)             (None, 1)                 6         \n",
      "                                                                 \n",
      "=================================================================\n",
      "Total params: 66,121\n",
      "Trainable params: 66,121\n",
      "Non-trainable params: 0\n",
      "_________________________________________________________________\n",
      "Epoch 1/10\n",
      "804/804 [==============================] - 1s 1ms/step - loss: 0.6865 - accuracy: 0.6742\n",
      "Epoch 2/10\n",
      "804/804 [==============================] - 1s 1ms/step - loss: 0.5659 - accuracy: 0.7738\n",
      "Epoch 3/10\n",
      "804/804 [==============================] - 1s 1ms/step - loss: 0.5308 - accuracy: 0.7928\n",
      "Epoch 4/10\n",
      "804/804 [==============================] - 1s 1ms/step - loss: 0.5133 - accuracy: 0.8000\n",
      "Epoch 5/10\n",
      "804/804 [==============================] - 1s 1ms/step - loss: 0.5046 - accuracy: 0.8054\n",
      "Epoch 6/10\n",
      "804/804 [==============================] - 1s 1ms/step - loss: 0.5010 - accuracy: 0.8063\n",
      "Epoch 7/10\n",
      "804/804 [==============================] - 1s 1ms/step - loss: 0.4990 - accuracy: 0.8078\n",
      "Epoch 8/10\n",
      "804/804 [==============================] - 1s 1ms/step - loss: 0.4986 - accuracy: 0.8073\n",
      "Epoch 9/10\n",
      "804/804 [==============================] - 1s 1ms/step - loss: 0.4976 - accuracy: 0.8084\n",
      "Epoch 10/10\n",
      "804/804 [==============================] - 1s 1ms/step - loss: 0.4963 - accuracy: 0.8082\n",
      "268/268 - 0s - loss: 0.7803 - accuracy: 0.5831 - 285ms/epoch - 1ms/step\n",
      "Loss: 0.7803375720977783, Accuracy: 0.5830903649330139\n"
     ]
    }
   ],
   "source": [
    "# V1\n",
    "\n",
    "# Define the model with different number of hidden layers and/or units\n",
    "nn1 = Sequential()\n",
    "\n",
    "# First hidden layer\n",
    "nn1.add(Dense(units=10, activation='relu', input_dim=X_train.shape[1]))\n",
    "\n",
    "# Second hidden layer\n",
    "nn1.add(Dense(units=5, activation='tanh'))\n",
    "\n",
    "# Output layer\n",
    "nn1.add(Dense(units=1, activation='sigmoid'))\n",
    "\n",
    "# Add L1 regularization to your layers\n",
    "for layer in nn1.layers:\n",
    "    if isinstance(layer, Dense):\n",
    "        layer.add_loss(lambda: tf.keras.regularizers.l1(l1_lambda)(layer.kernel))\n",
    "\n",
    "# Check the structure of the model\n",
    "nn1.summary()\n",
    "\n",
    "# Compile and train the model\n",
    "nn1.compile(loss='binary_crossentropy', optimizer='adam', metrics=['accuracy'])\n",
    "nn1.fit(X_train_scaled, y_train, epochs=10, batch_size=32, verbose=1)\n",
    "\n",
    "# Evaluate the model using the test data\n",
    "model_loss1, model_accuracy1 = nn1.evaluate(X_test_scaled,y_test,verbose=2)\n",
    "print(f\"Loss: {model_loss1}, Accuracy: {model_accuracy1}\")\n",
    "\n",
    "if model_accuracy1 > best_accuracy:\n",
    "    best_accuracy = model_accuracy1"
   ]
  },
  {
   "cell_type": "code",
   "execution_count": 18,
   "metadata": {},
   "outputs": [
    {
     "name": "stdout",
     "output_type": "stream",
     "text": [
      "Model: \"sequential_2\"\n",
      "_________________________________________________________________\n",
      " Layer (type)                Output Shape              Param #   \n",
      "=================================================================\n",
      " dense_6 (Dense)             (None, 10)                66060     \n",
      "                                                                 \n",
      " dense_7 (Dense)             (None, 10)                110       \n",
      "                                                                 \n",
      " dense_8 (Dense)             (None, 1)                 11        \n",
      "                                                                 \n",
      "=================================================================\n",
      "Total params: 66,181\n",
      "Trainable params: 66,181\n",
      "Non-trainable params: 0\n",
      "_________________________________________________________________\n",
      "Epoch 1/10\n",
      "804/804 [==============================] - 1s 1ms/step - loss: 0.6702 - accuracy: 0.6579\n",
      "Epoch 2/10\n",
      "804/804 [==============================] - 1s 1ms/step - loss: 0.5679 - accuracy: 0.7722\n",
      "Epoch 3/10\n",
      "804/804 [==============================] - 1s 1ms/step - loss: 0.5177 - accuracy: 0.7991\n",
      "Epoch 4/10\n",
      "804/804 [==============================] - 1s 1ms/step - loss: 0.5048 - accuracy: 0.8050\n",
      "Epoch 5/10\n",
      "804/804 [==============================] - 1s 1ms/step - loss: 0.5013 - accuracy: 0.8081\n",
      "Epoch 6/10\n",
      "804/804 [==============================] - 1s 1ms/step - loss: 0.4997 - accuracy: 0.8073\n",
      "Epoch 7/10\n",
      "804/804 [==============================] - 1s 1ms/step - loss: 0.4980 - accuracy: 0.8084\n",
      "Epoch 8/10\n",
      "804/804 [==============================] - 1s 1ms/step - loss: 0.4964 - accuracy: 0.8092\n",
      "Epoch 9/10\n",
      "804/804 [==============================] - 1s 1ms/step - loss: 0.4955 - accuracy: 0.8092\n",
      "Epoch 10/10\n",
      "804/804 [==============================] - 1s 1ms/step - loss: 0.4941 - accuracy: 0.8102\n",
      "268/268 - 0s - loss: 0.6762 - accuracy: 0.6688 - 265ms/epoch - 990us/step\n",
      "Loss: 0.6762290596961975, Accuracy: 0.6688046455383301\n"
     ]
    }
   ],
   "source": [
    "# V2\n",
    "\n",
    "# Define the model with different number of hidden layers and/or units\n",
    "nn2 = Sequential()\n",
    "\n",
    "# First hidden layer\n",
    "nn2.add(Dense(units=10, activation='relu', input_dim=X_train.shape[1]))\n",
    "\n",
    "# Second hidden layer\n",
    "nn2.add(Dense(units=10, activation='tanh'))\n",
    "\n",
    "# Output layer\n",
    "nn2.add(Dense(units=1, activation='sigmoid'))\n",
    "\n",
    "# Add L1 regularization to your layers\n",
    "for layer in nn2.layers:\n",
    "    if isinstance(layer, Dense):\n",
    "        layer.add_loss(lambda: tf.keras.regularizers.l1(l1_lambda)(layer.kernel))\n",
    "\n",
    "# Check the structure of the model\n",
    "nn2.summary()\n",
    "\n",
    "# Compile and train the model\n",
    "nn2.compile(loss='binary_crossentropy', optimizer='adam', metrics=['accuracy'])\n",
    "nn2.fit(X_train_scaled, y_train, epochs=10, batch_size=32, verbose=1)\n",
    "\n",
    "# Evaluate the model using the test data\n",
    "model_loss2, model_accuracy2 = nn2.evaluate(X_test_scaled,y_test,verbose=2)\n",
    "print(f\"Loss: {model_loss2}, Accuracy: {model_accuracy2}\")\n",
    "\n",
    "if model_accuracy2 > best_accuracy:\n",
    "    best_accuracy = model_accuracy2"
   ]
  },
  {
   "cell_type": "code",
   "execution_count": 19,
   "metadata": {},
   "outputs": [
    {
     "name": "stdout",
     "output_type": "stream",
     "text": [
      "Model: \"sequential_3\"\n",
      "_________________________________________________________________\n",
      " Layer (type)                Output Shape              Param #   \n",
      "=================================================================\n",
      " dense_9 (Dense)             (None, 10)                66060     \n",
      "                                                                 \n",
      " dense_10 (Dense)            (None, 10)                110       \n",
      "                                                                 \n",
      " dense_11 (Dense)            (None, 1)                 11        \n",
      "                                                                 \n",
      "=================================================================\n",
      "Total params: 66,181\n",
      "Trainable params: 66,181\n",
      "Non-trainable params: 0\n",
      "_________________________________________________________________\n",
      "Epoch 1/20\n",
      "804/804 [==============================] - 1s 1ms/step - loss: 0.6628 - accuracy: 0.6666\n",
      "Epoch 2/20\n",
      "804/804 [==============================] - 1s 1ms/step - loss: 0.5880 - accuracy: 0.7552\n",
      "Epoch 3/20\n",
      "804/804 [==============================] - 1s 1ms/step - loss: 0.5353 - accuracy: 0.7873\n",
      "Epoch 4/20\n",
      "804/804 [==============================] - 1s 1ms/step - loss: 0.5089 - accuracy: 0.8024\n",
      "Epoch 5/20\n",
      "804/804 [==============================] - 1s 1ms/step - loss: 0.5010 - accuracy: 0.8073\n",
      "Epoch 6/20\n",
      "804/804 [==============================] - 1s 1ms/step - loss: 0.4986 - accuracy: 0.8073\n",
      "Epoch 7/20\n",
      "804/804 [==============================] - 1s 1ms/step - loss: 0.4967 - accuracy: 0.8078\n",
      "Epoch 8/20\n",
      "804/804 [==============================] - 1s 1ms/step - loss: 0.4960 - accuracy: 0.8077\n",
      "Epoch 9/20\n",
      "804/804 [==============================] - 1s 1ms/step - loss: 0.4955 - accuracy: 0.8076\n",
      "Epoch 10/20\n",
      "804/804 [==============================] - 1s 1ms/step - loss: 0.4945 - accuracy: 0.8081\n",
      "Epoch 11/20\n",
      "804/804 [==============================] - 1s 1ms/step - loss: 0.4940 - accuracy: 0.8087\n",
      "Epoch 12/20\n",
      "804/804 [==============================] - 1s 1ms/step - loss: 0.4938 - accuracy: 0.8082\n",
      "Epoch 13/20\n",
      "804/804 [==============================] - 1s 1ms/step - loss: 0.4936 - accuracy: 0.8089\n",
      "Epoch 14/20\n",
      "804/804 [==============================] - 1s 1ms/step - loss: 0.4933 - accuracy: 0.8083\n",
      "Epoch 15/20\n",
      "804/804 [==============================] - 1s 1ms/step - loss: 0.4926 - accuracy: 0.8093\n",
      "Epoch 16/20\n",
      "804/804 [==============================] - 1s 1ms/step - loss: 0.4918 - accuracy: 0.8097\n",
      "Epoch 17/20\n",
      "804/804 [==============================] - 1s 1ms/step - loss: 0.4916 - accuracy: 0.8106\n",
      "Epoch 18/20\n",
      "804/804 [==============================] - 1s 1ms/step - loss: 0.4919 - accuracy: 0.8098\n",
      "Epoch 19/20\n",
      "804/804 [==============================] - 1s 1ms/step - loss: 0.4916 - accuracy: 0.8093\n",
      "Epoch 20/20\n",
      "804/804 [==============================] - 1s 1ms/step - loss: 0.4913 - accuracy: 0.8093\n",
      "268/268 - 0s - loss: 0.6524 - accuracy: 0.7108 - 299ms/epoch - 1ms/step\n",
      "Loss: 0.6524319648742676, Accuracy: 0.7107871770858765\n"
     ]
    }
   ],
   "source": [
    "# V3\n",
    "\n",
    "# Define the model with different number of hidden layers and/or units\n",
    "nn3 = Sequential()\n",
    "\n",
    "# First hidden layer\n",
    "nn3.add(Dense(units=10, activation='relu', input_dim=X_train.shape[1]))\n",
    "\n",
    "# Second hidden layer\n",
    "nn3.add(Dense(units=10, activation='tanh'))\n",
    "\n",
    "# Output layer\n",
    "nn3.add(Dense(units=1, activation='sigmoid'))\n",
    "\n",
    "# Add L1 regularization to your layers\n",
    "for layer in nn3.layers:\n",
    "    if isinstance(layer, Dense):\n",
    "        layer.add_loss(lambda: tf.keras.regularizers.l1(l1_lambda)(layer.kernel))\n",
    "\n",
    "# Check the structure of the model\n",
    "nn3.summary()\n",
    "\n",
    "# Compile and train the model\n",
    "nn3.compile(loss='binary_crossentropy', optimizer='adam', metrics=['accuracy'])\n",
    "nn3.fit(X_train_scaled, y_train, epochs=20, batch_size=32, verbose=1)\n",
    "\n",
    "# Evaluate the model using the test data\n",
    "model_loss3, model_accuracy3 = nn3.evaluate(X_test_scaled,y_test,verbose=2)\n",
    "print(f\"Loss: {model_loss3}, Accuracy: {model_accuracy3}\")\n",
    "\n",
    "if model_accuracy3 > best_accuracy:\n",
    "    best_accuracy = model_accuracy3"
   ]
  },
  {
   "cell_type": "code",
   "execution_count": 20,
   "metadata": {},
   "outputs": [
    {
     "name": "stdout",
     "output_type": "stream",
     "text": [
      "Best Model:\n",
      "V3\n",
      "0.7107871770858765\n"
     ]
    }
   ],
   "source": [
    "print('Best Model:')\n",
    "if best_accuracy == model_accuracy:\n",
    "    print('Original')\n",
    "    best_model = nn0\n",
    "elif best_accuracy == model_accuracy1:\n",
    "    print('V1')\n",
    "    best_model = nn1\n",
    "elif best_accuracy == model_accuracy2:\n",
    "    print('V2')\n",
    "    best_model = nn2\n",
    "else:\n",
    "    print('V3')\n",
    "    best_model = nn3\n",
    "print(best_accuracy)"
   ]
  },
  {
   "cell_type": "code",
   "execution_count": 21,
   "metadata": {},
   "outputs": [],
   "source": [
    "# Export the best model to HDF5 file\n",
    "\n",
    "best_model.save('AlphabetSoupCharity_Optimization.h5')"
   ]
  },
  {
   "cell_type": "markdown",
   "metadata": {},
   "source": [
    "# Report on the Neural Network Model for Alphabet Soup\n",
    "\n",
    "## Overview of the Analysis:\n",
    "\n",
    "### The purpose of this analysis is to create a deep learning model using neural networks to predict whether applicants for funding from Alphabet Soup, a charitable organization, will be successful or not. The dataset used for this analysis is a CSV file called charity_data.csv, which contains various features about each applicant, such as application type, classification, and other relevant information.\n",
    "\n",
    "## Results:\n",
    "\n",
    "## Data Preprocessing:\n",
    "\n",
    "### - The target variable for the model is the \"IS_SUCCESSFUL\" column, which indicates an applicant’s success or failure in receiving funding.\n",
    "### - The features for the model include all the columns in the original dataset, except for \"EIN\" and \"NAME\".\n",
    "### - The \"APPLICATION_TYPE\" and \"CLASSIFICATION\" columns were one-hot encoded using pd.get_dummies() to convert the categorical data to numeric.\n",
    "\n",
    "## Compiling, Training, and Evaluating the Model:\n",
    "\n",
    "### - The neural network model was compiled using the Adam optimizer and binary crossentropy loss function, as this is a binary classification problem.\n",
    "### - The base model architecture consists of three layers: one input layer with 10 units and ReLU activation, one hidden layer with 5 units and ReLU activation, and one output layer with 1 unit and sigmoid activation.\n",
    "### - The optimized models were trained using different variations of units per layer and I utilized L1 regularization to prevent overfitting by adding a penalty term to the loss function.\n",
    "### - Different activation functions and layer configurations were also experimented with, but the target model performance of 75% accuracy was not achieved.\n",
    "### - The best model achieved an accuracy of about 72.5% on the test data, which is slightly below the target model performance of 75% accuracy.\n",
    "\n",
    "\n",
    "## Summary:\n",
    "\n",
    "### The deep learning neural network model developed for predicting successful applicants for funding from Alphabet Soup achieved a best accuracy of about 72.5% on the test data. Although this falls slightly short of the target model performance of 75% accuracy, the model may still provide valuable insights and predictions. To improve the model performance, additional experimentation with different model architectures, hyperparameter tuning, and feature engineering techniques could be performed. It may also be beneficial to explore other machine learning algorithms, such as decision trees, random forests, or support vector machines, to compare their performance with these neural network models. Updating with new data may also help to improve the model's accuracy."
   ]
  }
 ],
 "metadata": {
  "kernelspec": {
   "display_name": "Python 3.9.12 ('base')",
   "language": "python",
   "name": "python3"
  },
  "language_info": {
   "codemirror_mode": {
    "name": "ipython",
    "version": 3
   },
   "file_extension": ".py",
   "mimetype": "text/x-python",
   "name": "python",
   "nbconvert_exporter": "python",
   "pygments_lexer": "ipython3",
   "version": "3.9.12"
  },
  "orig_nbformat": 4,
  "vscode": {
   "interpreter": {
    "hash": "9164f9f156afd3270be00908a629fdf90d3514ea3445c456a2207d485b2a9e05"
   }
  }
 },
 "nbformat": 4,
 "nbformat_minor": 2
}
